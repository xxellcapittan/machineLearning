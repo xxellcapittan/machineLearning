{
  "nbformat": 4,
  "nbformat_minor": 0,
  "metadata": {
    "colab": {
      "name": "Untitled1.ipynb",
      "provenance": [],
      "collapsed_sections": [],
      "authorship_tag": "ABX9TyMAGLfu4dRO2vYZ66sEu9YD",
      "include_colab_link": true
    },
    "kernelspec": {
      "name": "python3",
      "display_name": "Python 3"
    }
  },
  "cells": [
    {
      "cell_type": "markdown",
      "metadata": {
        "id": "view-in-github",
        "colab_type": "text"
      },
      "source": [
        "<a href=\"https://colab.research.google.com/github/xxellcapittan/machineLearning/blob/master/lesson1.ipynb\" target=\"_parent\"><img src=\"https://colab.research.google.com/assets/colab-badge.svg\" alt=\"Open In Colab\"/></a>"
      ]
    },
    {
      "cell_type": "code",
      "metadata": {
        "id": "EAmoJpkZnu4P",
        "colab_type": "code",
        "colab": {
          "base_uri": "https://localhost:8080/",
          "height": 789
        },
        "outputId": "540e7ffc-b2d6-46a4-9989-c2097d731d31"
      },
      "source": [
        "#as dependencias\n",
        "from __future__ import absolute_import, division, print_function, unicode_literals\n",
        "#using ternsorflow version \n",
        "%tensorflow_version 2.x\n",
        "\n",
        "try:\n",
        "  # Use the %tensorflow_version magic if in colab.\n",
        "  %tensorflow_version 2.x\n",
        "except Exception:\n",
        "  pass\n",
        "\n",
        "import tensorflow as tf\n",
        "\n",
        "import numpy as np\n",
        "import logging\n",
        "logger = tf.get_logger()\n",
        "logger.setLevel(logging.ERROR)\n",
        "\n",
        "#dados de treinamento\n",
        "kelvin_k = np.array([25, 12, 32, 0, 14, 18], dtype=float) #features  \n",
        "celsius_q = np.array([-248.15, -261.15, -241.15, -273.15, -259.15, -255.15], dtype=float) #labels\n",
        "\n",
        "for i,c in enumerate(kelvin_k):\n",
        "  print(\"{} degrees Kelvin = {} degrees celsius\".format(c, celsius_q[i]))\n",
        "\n",
        "#criação do modelo\n",
        "\n",
        "l0 = tf.keras.layers.Dense(units=1, input_shape=[1])\n",
        "\n",
        "#montar as camadas do modelo\n",
        "model = tf.keras.Sequential([l0])\n",
        "\n",
        "'''\n",
        "Você verá frequentemente as camadas definidas dentro da definição do modelo, e não antes:\n",
        "model = tf.keras.Sequential([\n",
        "  tf.keras.layers.Dense(units=1, input_shape=[1])\n",
        "])\n",
        "'''\n",
        "#Compile o modelo, com funções de perda e otimizador\n",
        "model.compile(loss='mean_squared_error',\n",
        "              optimizer=tf.keras.optimizers.Adam(0.1))\n",
        "\n",
        "'''\n",
        "Você pode configurar Adam para o grau de \"agressividade\" com que o modelo será treinado\n",
        "0.1 e 0.001 geralmente são suficientes\n",
        "'''\n",
        "#treinar o modelo\n",
        "history = model.fit(kelvin_k, celsius_q, epochs=500, verbose=False)\n",
        "print(\"Finished training the model\")\n",
        "print('\\n')\n",
        "# os argumentos são os INPUTS, e os argumentos secundários desejados são os OUTPUTS, verbose controla como será a saída \n",
        "\n",
        "#Usando MatPlotLib para exibir os resultados da acurácia do treinamento\n",
        "import matplotlib.pyplot as plt\n",
        "plt.xlabel('Epoch Number')\n",
        "plt.ylabel(\"Loss Magnitude\")\n",
        "plt.plot(history.history['loss'])\n",
        "print('\\n')\n",
        "\n",
        "#Uma visão do peso das camadas\n",
        "print(\"Estas são as variáveis de camada: {}\".format(l0.get_weights()))\n",
        "\n",
        "print('\\n')\n",
        "print('Um experimento\\n')\n",
        "l0 = tf.keras.layers.Dense(units=4, input_shape=[1])\n",
        "l1 = tf.keras.layers.Dense(units=4)\n",
        "l2 = tf.keras.layers.Dense(units=1)\n",
        "model = tf.keras.Sequential([l0, l1, l2])\n",
        "model.compile(loss='mean_squared_error', optimizer=tf.keras.optimizers.Adam(0.1))\n",
        "model.fit(kelvin_k, celsius_q, epochs=500, verbose=False)\n",
        "print(\"Finished training the model\")\n",
        "print(model.predict([100.0]))\n",
        "print(\"Model predicts that 100 degrees Kelvin is: {} degrees Celsius\".format(model.predict([100.0])))\n",
        "print(\"These are the l0 variables: {}\".format(l0.get_weights()))\n",
        "print(\"These are the l1 variables: {}\".format(l1.get_weights()))\n",
        "print(\"These are the l2 variables: {}\".format(l2.get_weights()))"
      ],
      "execution_count": 15,
      "outputs": [
        {
          "output_type": "stream",
          "text": [
            "25.0 degrees Kelvin = -248.15 degrees celsius\n",
            "12.0 degrees Kelvin = -261.15 degrees celsius\n",
            "32.0 degrees Kelvin = -241.15 degrees celsius\n",
            "0.0 degrees Kelvin = -273.15 degrees celsius\n",
            "14.0 degrees Kelvin = -259.15 degrees celsius\n",
            "18.0 degrees Kelvin = -255.15 degrees celsius\n",
            "Finished training the model\n",
            "\n",
            "\n",
            "\n",
            "\n",
            "Estas são as variáveis de camada: [array([[-9.674694]], dtype=float32), array([-30.661964], dtype=float32)]\n",
            "\n",
            "\n",
            "Um experimento\n",
            "\n",
            "Finished training the model\n",
            "[[-173.15]]\n",
            "Model predicts that 100 degrees Kelvin is: [[-173.15]] degrees Celsius\n",
            "These are the l0 variables: [array([[ 0.7018989 ,  0.52818066,  0.19216506, -0.8014602 ]],\n",
            "      dtype=float32), array([-5.077429 ,  6.044413 , -5.6315165, -6.4399943], dtype=float32)]\n",
            "These are the l1 variables: [array([[-2.7919161 ,  2.1165233 , -1.5937984 , -2.576658  ],\n",
            "       [ 1.4889619 , -1.0170363 ,  1.7286115 ,  0.39854583],\n",
            "       [-1.7810086 ,  1.6341003 , -0.953006  , -1.5742514 ],\n",
            "       [-0.4408822 ,  1.5117993 , -1.8778299 , -1.3106427 ]],\n",
            "      dtype=float32), array([ 5.6891537, -5.6138024,  5.1389623,  5.170432 ], dtype=float32)]\n",
            "These are the l2 variables: [array([[-1.4860433],\n",
            "       [ 1.6349784],\n",
            "       [-1.9261695],\n",
            "       [-1.576277 ]], dtype=float32), array([-4.2774043], dtype=float32)]\n"
          ],
          "name": "stdout"
        },
        {
          "output_type": "display_data",
          "data": {
            "image/png": "[encoded data removed]",
            "text/plain": [
              "<Figure size 432x288 with 1 Axes>"
            ]
          },
          "metadata": {
            "tags": []
          }
        }
      ]
    }
  ]
}